{
 "cells": [
  {
   "cell_type": "markdown",
   "metadata": {
    "id": "0ICUpCQ50tUj"
   },
   "source": [
    "# Introduction to Python\n",
    "Python is one of the most popular text-based coding languages. One way to run Python code is via \"Jupyter notebooks.\" In this Jupyter notebook, we will introduce you to the basics of Python!"
   ]
  },
  {
   "cell_type": "markdown",
   "metadata": {
    "id": "ee2_r5Y91Q7g"
   },
   "source": [
    "## Running Python code in Jupyter notebooks\n",
    "Jupyter notebooks allow you to run specific \"cells\" or blocks of code. To run a specific cell, simply click on that cell and press <kbd>Shift</kbd>+<kbd>Enter</kbd> together. Try it for yourself down below to add `2+2` \n",
    "\n",
    "*Note: the cell may take a little while to run the first time -- the notebook needs time to \"start up\" "
   ]
  },
  {
   "cell_type": "code",
   "execution_count": 1,
   "metadata": {
    "id": "st6FqULN1CwH"
   },
   "outputs": [
    {
     "data": {
      "text/plain": [
       "4"
      ]
     },
     "execution_count": 1,
     "metadata": {},
     "output_type": "execute_result"
    }
   ],
   "source": [
    "2+2"
   ]
  },
  {
   "cell_type": "markdown",
   "metadata": {
    "id": "GVP758CvEuqX"
   },
   "source": [
    "We can make a \"comment\" in Python code by starting a line with a `#`. Comments are not read by Python when the code is run. Comments are very useful for annotating code so that the programmer understands what is going on.\n",
    "\n",
    "As an example, try running the cell below. Which comments are printed by Python?"
   ]
  },
  {
   "cell_type": "code",
   "execution_count": 2,
   "metadata": {
    "id": "5EL_jFS-Fm2q"
   },
   "outputs": [
    {
     "name": "stdout",
     "output_type": "stream",
     "text": [
      "This is not a comment, so Python will print this.\n"
     ]
    }
   ],
   "source": [
    "# print(\"This is a comment, so Python will not print this.\")\n",
    "print(\"This is not a comment, so Python will print this.\")"
   ]
  },
  {
   "cell_type": "markdown",
   "metadata": {
    "id": "Xjgs7Z7q3676"
   },
   "source": [
    "As is tradition when learning a new coding language, the first thing we should do is print out the phrase \"Hello World!\" To do this, we will use one of Python's built-in functions called ```print()```. In the cell below, type \n",
    "\n",
    "\n",
    "```\n",
    "print(\"Hello World!\")\n",
    "```\n",
    "and run the cell. Make sure to include the quotation marks!"
   ]
  },
  {
   "cell_type": "code",
   "execution_count": null,
   "metadata": {
    "id": "8A4zb34H40ZM"
   },
   "outputs": [],
   "source": [
    "# type the \"Hello World!\" code in this cell \n"
   ]
  },
  {
   "cell_type": "markdown",
   "metadata": {
    "id": "pg-P9JFzDvLO"
   },
   "source": [
    "Congratulations! You just successfully ran Python code!"
   ]
  },
  {
   "cell_type": "markdown",
   "metadata": {
    "id": "5m6aHJ8s5anq"
   },
   "source": [
    "## Data types\n",
    "\n",
    "Every value in Python belongs to a specific data type. \n",
    "\n",
    "For example, the positive or negative whole numbers `0, 1, 2, 3, ...` belong to the integer data type, labeled by `int`. \n",
    "\n",
    "If you look at numbers that contain a decimal point, like `3.1415, 5.0, 10.144`, these belong to the floating point number data type, labeled by `float`. Note that if you include a `.0` after an integer (such as `1.0`), Python will interpret that value as a `float` rather than an `int`.\n",
    "\n",
    "Text belongs to the character string data type, labeled by `str`. Note that you must wrap text in either single or double quotation marks (such as `'hello'` or `\"hello\"`) \n",
    "\n",
    "\n",
    "**Data types overview:**\n",
    "\n",
    "\n",
    "*   `int` - integers (ex: `-5, 36, 1000`)\n",
    "*   `float` - floating point numbers (ex: `3.1415, 20.84, 5.0`)\n",
    "*   `str` - character string (ex: `\"Hello World!\", \"apples\", \"my name is\"`)\n",
    "\n",
    "You can ask Python to tell you what data type some value belongs to by using the built-in `type()` command. Run the cell below to see an example:\n",
    "\n",
    "\n"
   ]
  },
  {
   "cell_type": "code",
   "execution_count": null,
   "metadata": {
    "id": "wxd-ViS7Cvwi"
   },
   "outputs": [],
   "source": [
    "print(type(3.14157))"
   ]
  },
  {
   "cell_type": "markdown",
   "metadata": {
    "id": "XesDztc3Cnlu"
   },
   "source": [
    "In the cell below, determine the data type that `5` belongs to by following the example code above"
   ]
  },
  {
   "cell_type": "code",
   "execution_count": null,
   "metadata": {
    "id": "Tt2q3VHsEGwq"
   },
   "outputs": [],
   "source": [
    "# Determine the data type that 5 belongs to in this cell\n"
   ]
  },
  {
   "cell_type": "markdown",
   "metadata": {
    "id": "ZDlbDhTVBeA7"
   },
   "source": [
    "In the cell below, determine the data type that `5.0` belongs to. Is \n",
    "it what you would have expected?"
   ]
  },
  {
   "cell_type": "code",
   "execution_count": null,
   "metadata": {
    "id": "Va6BPO8m89j6"
   },
   "outputs": [],
   "source": [
    "# Determine the data type that 5.0 belongs to in this cell\n"
   ]
  },
  {
   "cell_type": "markdown",
   "metadata": {
    "id": "htJ4LL3vCSyF"
   },
   "source": [
    "In the cell below, determine the data type that `\"5.0\"` belongs to (notice the quotation marks!). Is it what you would have expected?"
   ]
  },
  {
   "cell_type": "code",
   "execution_count": null,
   "metadata": {
    "id": "FbqAaN43Ceyy"
   },
   "outputs": [],
   "source": [
    "# Determine the data type that \"5.0\" belongs to in this cell\n"
   ]
  },
  {
   "cell_type": "markdown",
   "metadata": {
    "id": "0fI6Q3mZJQ00"
   },
   "source": [
    "### Mathematical operations\n",
    "\n",
    "Python can very easily handle basic mathematical operations, like\n",
    "\n",
    "\n",
    "*   addition: `+`\n",
    "*   subtraction: `-`\n",
    "*   multiplication: `*`\n",
    "*   division: `/`\n",
    "\n",
    "In the cell below, ask Python to print out the answers to the following operations:\n",
    "\n",
    "```\n",
    "    print(4 + 2)\n",
    "    print(4 - 2)\n",
    "    print(4 * 2)\n",
    "    print(4 / 2)\n",
    "```\n"
   ]
  },
  {
   "cell_type": "code",
   "execution_count": null,
   "metadata": {
    "id": "x0M_n96DKXvl"
   },
   "outputs": [],
   "source": [
    "# Print out the answers to the above operations in this cell\n"
   ]
  },
  {
   "cell_type": "markdown",
   "metadata": {
    "id": "yl73QHPhKV90"
   },
   "source": [
    "Based on the answers Python printed out, what do you think the data type of each answer is? \n",
    "\n",
    "Check for yourself! Ask Python to print out the data types of the operations below:\n",
    "```\n",
    "    print(type(4 + 2))\n",
    "    print(type(4 - 2))\n",
    "    print(type(4 * 2))\n",
    "    print(type(4 / 2))\n",
    "```\n"
   ]
  },
  {
   "cell_type": "code",
   "execution_count": null,
   "metadata": {
    "id": "aX77N8gHJQBw"
   },
   "outputs": [],
   "source": [
    "# Print out the data types of the above operations in this cell\n"
   ]
  },
  {
   "cell_type": "markdown",
   "metadata": {
    "id": "t-VMJbuaK5w8"
   },
   "source": [
    "Does the data type of the division surprise you? \n",
    "Note that when you use the division operation `/`, Python will automatically interpret the answer as a `float`! "
   ]
  },
  {
   "cell_type": "markdown",
   "metadata": {
    "id": "xKoIt8OZERyY"
   },
   "source": [
    "## Assigning Variables\n",
    "\n",
    "Often times, we do not want to keep track of specific values, but instead want to assign them to a variable that we can manipulate. \n",
    "\n",
    "To assign a specific value to a variable, use a single `=` sign. Run the code below to see for yourself! "
   ]
  },
  {
   "cell_type": "code",
   "execution_count": null,
   "metadata": {
    "id": "23RkADadCiar"
   },
   "outputs": [],
   "source": [
    "my_variable = 10\n",
    "print(my_variable)"
   ]
  },
  {
   "cell_type": "markdown",
   "metadata": {
    "id": "v6Ai6w8ILN4Q"
   },
   "source": [
    "We can now work with variables in place of the values they represent. This becomes very useful when we have to perform many operations and we do not want to have to keep track at every step. \n",
    "\n",
    "What do you predict the output of the following code will be? Run it to see!"
   ]
  },
  {
   "cell_type": "code",
   "execution_count": null,
   "metadata": {
    "id": "NemOAl1YMdUJ"
   },
   "outputs": [],
   "source": [
    "a = 25\n",
    "b = 5\n",
    "\n",
    "c = a / b\n",
    "print(c)"
   ]
  },
  {
   "cell_type": "markdown",
   "metadata": {
    "id": "GtRH6VRWP_BJ"
   },
   "source": [
    "### Exercise\n",
    "\n",
    "Time to try for yourself! \n",
    "\n",
    "Define 2 `int` variables called `my_int_1` and `my_int_2`, and assign them values of your choice between 1-10. \n",
    "\n",
    "Define a `float` variable called `my_float`, and assign it a value between 1 and 10. (Make sure you are defining a `float`!)\n",
    "\n",
    "Multiply all 3 variables together and print the result! Also print out its data type. Is it what you expect?"
   ]
  },
  {
   "cell_type": "code",
   "execution_count": 1,
   "metadata": {
    "id": "Ed-Xt62gTKSi"
   },
   "outputs": [],
   "source": [
    "# define your variables and multiply them\n"
   ]
  },
  {
   "cell_type": "markdown",
   "metadata": {},
   "source": [
    "Now we know how to define variables! However, we still need to be careful when writing code. Python reads code from top to bottom, so it does things in order.\n",
    "\n",
    "**Tricky question:**\n",
    "Say we write the following code:\n",
    "```\n",
    "a = 10\n",
    "b = 5\n",
    "\n",
    "c = a / b\n",
    "a = 15\n",
    "\n",
    "print(c)\n",
    "```\n",
    "What do you think Python will spit out? Test it for yourself below! Copy the code above and run the cell!"
   ]
  },
  {
   "cell_type": "code",
   "execution_count": 5,
   "metadata": {},
   "outputs": [],
   "source": [
    "# Copy the code from the tricky question above into this cell and run it!\n"
   ]
  },
  {
   "cell_type": "markdown",
   "metadata": {},
   "source": [
    "Did the answer surprise you?\n",
    "\n",
    "The thing we have to keep in mind when writing code is that Python, like us, reads from top to bottom. Therefore, it does things step-by-step. In the tricky question above:\n",
    "\n",
    "**Step 1:** set `a = 15`\n",
    "\n",
    "**Step 2:** set `b = 5`\n",
    "\n",
    "**Step 3:** set `c = a / b`, and since the variable `a` represents the number 10 and the variable `b` represents the number 5, this means `c = 2.0`!\n",
    "\n",
    "**Step 4:** redefine the variable `a` to be `a = 15`. Note that this _does not_ change `c`, since that was evaluated in step 3!"
   ]
  },
  {
   "cell_type": "markdown",
   "metadata": {},
   "source": [
    "## Booleans\n",
    "\n",
    "There is one more datatype besides `int`, `float`, and `string` that we have not talked about yet. Statements that are either `True` or `False` belong to the boolean data type, labeled by `bool`. \n",
    "\n",
    "For example, the statement `1 < 2` is a true statement, so Python would interpret this as a `bool` with the value `True`. Let's see how this works below:"
   ]
  },
  {
   "cell_type": "code",
   "execution_count": 4,
   "metadata": {},
   "outputs": [
    {
     "name": "stdout",
     "output_type": "stream",
     "text": [
      "True\n"
     ]
    }
   ],
   "source": [
    "# Let's see what Python gives us as the output of the following statement\n",
    "print(1 < 2)"
   ]
  },
  {
   "cell_type": "markdown",
   "metadata": {},
   "source": [
    "Let's now see what Python gives us as the output of a false statement, for example `2*3 < 4`:"
   ]
  },
  {
   "cell_type": "code",
   "execution_count": 6,
   "metadata": {},
   "outputs": [],
   "source": [
    "# In this cell, print out the result of the statement (2*3 < 4) below\n"
   ]
  },
  {
   "cell_type": "markdown",
   "metadata": {},
   "source": [
    "We can make true or false statements in a bunch of different ways, by using the following operators to compare things:\n",
    "\n",
    "`>`     check if the left is greater than the right\n",
    "\n",
    "`<`     check if the left is less than the right\n",
    "\n",
    "`>=`    check if the left is greater than or equal to the right\n",
    "\n",
    "`<=`    check if the left is less than or equal to the right\n",
    "\n",
    "`==`    check if the left is exactly equal to the right\n",
    "\n",
    "Look closely at the last operator! Note that we needed to use two equal signs to check if the left is exactly equal to the right. Remember that if we use a single equal sign, then we are telling Python to set the value of a variable, rather than asking Python to compare!"
   ]
  },
  {
   "cell_type": "markdown",
   "metadata": {},
   "source": [
    "### And"
   ]
  },
  {
   "cell_type": "markdown",
   "metadata": {},
   "source": [
    "We can also combine comparison operators together in different ways to form booleans. One such way to do that is via the `and` operator. A real-life example would be something like\n",
    "```\n",
    "If the room is dark and the light is off, then I will turn on the light.\n",
    "```\n",
    "With the `and` operator, the conditions you are combining must _both_ be true in order to return an overall `True`! Thinking about the previous example, if the room was not dark, then I would not have turned on the light, and similarly if the light was not off, then I have no need to turn on the light! \n",
    "\n",
    "In Python, an example using the `and` operator could look something like this:\n",
    "```\n",
    "if (4 < 7) and (3 == 2+1):\n",
    "     print(\"Your statement is true!\")\n",
    "```\n",
    "\n",
    "(Don't worry, we will cover `if` statements soon)"
   ]
  },
  {
   "cell_type": "code",
   "execution_count": 11,
   "metadata": {},
   "outputs": [
    {
     "name": "stdout",
     "output_type": "stream",
     "text": [
      "Your statement is true!\n"
     ]
    }
   ],
   "source": [
    "if (4 < 7) and (3 == 2+1):\n",
    "     print(\"Your statement is true!\")"
   ]
  },
  {
   "cell_type": "markdown",
   "metadata": {},
   "source": [
    "Let's try more some examples and see what Python gives us as output:"
   ]
  },
  {
   "cell_type": "code",
   "execution_count": 6,
   "metadata": {},
   "outputs": [
    {
     "ename": "SyntaxError",
     "evalue": "invalid syntax (Temp/ipykernel_13960/4206004327.py, line 4)",
     "output_type": "error",
     "traceback": [
      "\u001b[1;36m  File \u001b[1;32m\"C:\\Users\\MANVIR~1\\AppData\\Local\\Temp/ipykernel_13960/4206004327.py\"\u001b[1;36m, line \u001b[1;32m4\u001b[0m\n\u001b[1;33m    comparison1 =                  # ex: 4-2 == 2\u001b[0m\n\u001b[1;37m                                   ^\u001b[0m\n\u001b[1;31mSyntaxError\u001b[0m\u001b[1;31m:\u001b[0m invalid syntax\n"
     ]
    }
   ],
   "source": [
    "# Come up with two true comparisons below, using >, <, >=, <=, or ==\n",
    "# If both statements are True, Python will print out True!\n",
    "\n",
    "comparison1 =                  # ex: 4-2 == 2  \n",
    "comparison2 = \n",
    "\n",
    "print(comparison1 and comparison2)"
   ]
  },
  {
   "cell_type": "markdown",
   "metadata": {},
   "source": [
    "Now change one of the comparisons to a `False` statement. What does Python print out for the combined statement now?"
   ]
  },
  {
   "cell_type": "markdown",
   "metadata": {},
   "source": [
    "### Or\n",
    "\n",
    "Another comparison operator is the `or` operator. Let's think about how we expect this to work based on our everyday experiences: \n",
    "\n",
    "```\"If it is raining or it is snowing, I will bring an umbrella\"```\n",
    "\n",
    "In this case, we must just have _at least one_ of the conditions be true in order to return an overall `True`. Let's test this below: "
   ]
  },
  {
   "cell_type": "code",
   "execution_count": 12,
   "metadata": {},
   "outputs": [
    {
     "name": "stdout",
     "output_type": "stream",
     "text": [
      "True\n"
     ]
    }
   ],
   "source": [
    "# Let's first make 1 true statement\n",
    "comparison1 = 1000 > 1\n",
    "\n",
    "# Now let's make 1 false statement\n",
    "comparison2 = 9 <= 5\n",
    "\n",
    "# Let's see if Python gives us an overall True or False when we combine these two with an Or operator\n",
    "print(comparison1 or comparison2)"
   ]
  },
  {
   "cell_type": "markdown",
   "metadata": {},
   "source": [
    "Let's come up with our own examples!"
   ]
  },
  {
   "cell_type": "code",
   "execution_count": null,
   "metadata": {},
   "outputs": [],
   "source": [
    "# Come up with one true comparison and one false comparison below, using >, <, >=, <=, or ==\n",
    "# How many comparisons need to be true in order for Python to return an overall True?\n",
    "\n",
    "comparison1 =                  # ex: 4-2 == 2  \n",
    "comparison2 = \n",
    "\n",
    "print(comparison1 or comparison2)"
   ]
  },
  {
   "cell_type": "markdown",
   "metadata": {},
   "source": [
    "### Not\n",
    "One final way to manipulate booleans is by using the `not` operator. Again, let's think about it based on our everyday experiences. Before, I said I will bring an umbrella if the condition `it is raining` is `True`. If I now insert a `not` into the condition by saying `it is not raining`, then I am basically switching what True and False correspond to:\n",
    "\n",
    "```\"If it is NOT raining or it is NOT snowing, I will bring an umbrella\"```\n",
    "\n",
    "This is a silly example because why would we bring an umbrella if it is not raining or snowing? But it helps us understand how Python works.\n",
    "\n",
    "`not` works in Python in the same way as we use it in everyday English: to turn a `True` comparison to `False` or vice versa, we just need to insert a `not`. For example:"
   ]
  },
  {
   "cell_type": "code",
   "execution_count": 18,
   "metadata": {},
   "outputs": [
    {
     "name": "stdout",
     "output_type": "stream",
     "text": [
      "False\n",
      "True\n"
     ]
    }
   ],
   "source": [
    "# Let's try it ourselves!\n",
    "\n",
    "print(5 < 4)\n",
    "print(not 5 < 4)"
   ]
  },
  {
   "cell_type": "markdown",
   "metadata": {},
   "source": [
    "## If Statements"
   ]
  },
  {
   "cell_type": "markdown",
   "metadata": {},
   "source": [
    "These boolean (`True` or `False`) statements will be very helpful to us when we want our code to do one thing or the other depending on the situation! \n",
    "\n",
    "This is something that we are actually familiar with in everyday life. For example, if someone asked you, \n",
    "\n",
    "`\"When would you bring an umbrella to school?\"`\n",
    "\n",
    "you may respond by saying \n",
    "\n",
    "`\"If it is raining, I will bring an umbrella to school\"`\n",
    "\n",
    "Python works in the same way! If we want Python to do some specific thing when a condition is met (just like bringing an umbrella _if_ it is raining), then we can use the `if` statement. The `if` statements works like this:\n",
    "\n",
    "```\n",
    "if (statement that can either be True or False):\n",
    "    (whatever you want Python to do if the statement is True)\n",
    "```\n",
    "\n",
    "Note that you must tab on the line after the `if` statement to let Python know that is what you want to do if the condition is met. \n",
    "\n",
    "For example, let's test the following statement in the cell below:\n",
    "\n",
    "```\n",
    "a = 5\n",
    "b = 3\n",
    "\n",
    "if a > b:\n",
    "    print(\"You have made a True statement!\")\n",
    "```"
   ]
  },
  {
   "cell_type": "code",
   "execution_count": 7,
   "metadata": {},
   "outputs": [],
   "source": [
    "# Type the code above into this cell and look at the result you get. Is it what you expect?\n"
   ]
  },
  {
   "cell_type": "markdown",
   "metadata": {},
   "source": [
    "Come up with your own `if` statement below! Tell Python to print some statement of your choice if your condition is true!"
   ]
  },
  {
   "cell_type": "code",
   "execution_count": 7,
   "metadata": {},
   "outputs": [],
   "source": [
    "# Come up with your own if statement example here\n"
   ]
  },
  {
   "cell_type": "markdown",
   "metadata": {},
   "source": [
    "What if the condition is _not_ met? Well then Python will simply skip right over the `if` statement! Let's make sure by running the code below:"
   ]
  },
  {
   "cell_type": "code",
   "execution_count": 8,
   "metadata": {},
   "outputs": [],
   "source": [
    "# Let's see if Python skips over the if statement when the condition is False\n",
    "a = 5\n",
    "b = 10\n",
    "\n",
    "if (a > b):\n",
    "    print(\"Python did not skip the If statement\")"
   ]
  },
  {
   "cell_type": "markdown",
   "metadata": {},
   "source": [
    "See what happens if you change the False statement to something True instead! Does Python still skip over it?"
   ]
  },
  {
   "cell_type": "markdown",
   "metadata": {},
   "source": [
    "### If - Else\n",
    "\n",
    "Great! So now we know how to make Python do something only if a condition is True. But what happens if we want Python to do something else if the condition is False? For example, \n",
    "\n",
    "```\"if it is raining, I will bring an umbrella to school. Else, I will wear shorts.\"```\n",
    "\n",
    "Now we see that when the condition is not satisfied, then we must do something else. This is implemented in Python by using the `else` statement. Let's try an example below:"
   ]
  },
  {
   "cell_type": "code",
   "execution_count": 21,
   "metadata": {},
   "outputs": [
    {
     "name": "stdout",
     "output_type": "stream",
     "text": [
      "I will bring an umbrella!\n"
     ]
    }
   ],
   "source": [
    "is_it_raining = \"yes\"\n",
    "\n",
    "if (is_it_raining == \"yes\"): # Note the double == since we are comparing things!\n",
    "    print(\"I will bring an umbrella!\")\n",
    "else:\n",
    "    print(\"I will wear shorts!\")"
   ]
  },
  {
   "cell_type": "markdown",
   "metadata": {},
   "source": [
    "Change the variable `is_it_raining` to be `\"no\"` (make sure to remember the \" \") and see what the output is!"
   ]
  },
  {
   "cell_type": "markdown",
   "metadata": {},
   "source": [
    "Think of a situation in everyday life where you would use an `if-else` statement. Code it up in Python below!"
   ]
  },
  {
   "cell_type": "code",
   "execution_count": 9,
   "metadata": {},
   "outputs": [],
   "source": [
    "# Come up with your own if-else statement here\n"
   ]
  },
  {
   "cell_type": "markdown",
   "metadata": {},
   "source": [
    "## For Loops\n",
    "\n",
    "Suppose we want Python to do something 10 times. Instead of writing 10 lines of the same code over and over, we can use something called `for` loops. In this way, Python repeats some piece of code _for_ a certain number of loops. If we want a real-life example, we could consider saying something like `for 10 minutes, I will use an umbrella.` In this case, we are doing something for a set amount of time. \n",
    "\n",
    "Let's look at an example of how `for` loops are used in Python:\n",
    "\n",
    "```\n",
    "for n in range(10):\n",
    "    print(\"value = \",n)\n",
    "```\n",
    "\n",
    "Let's break this down:\n",
    "\n",
    "The first line say `for n in range(10)`. What this means is that we are creating a variable called `n` and it will take values ranging from 0 to 9 (Python starts counting from the number 0 -- more on this later). \n",
    "\n",
    "In each loop, Python will print out the string `\"value = \"`, following by the value of the variable `n` at that moment.  \n",
    "\n",
    "Overall, this code is just printing the particular statement we want 10 times. Let's check this below!"
   ]
  },
  {
   "cell_type": "code",
   "execution_count": 23,
   "metadata": {},
   "outputs": [],
   "source": [
    "# Copy the code into this cell and look at the result. Is it what you expected?\n"
   ]
  },
  {
   "cell_type": "markdown",
   "metadata": {},
   "source": [
    "## While Loops\n",
    "\n",
    "Closely related to `for` loops are `while` loops, which will make use of the Boolean statements we talked about earlier! Recall that `for` loops repeated some piece of code a specific number of times. One the other hand, `while` loops repeat some piece of code as long as some condition remains `True`. \n",
    "\n",
    "In everyday life, we would say something like `While it is raining, I will use an umbrella.` Unlike the `for` loop example (`for 10 minutes, I will use an umbrella`), this `while` loop goes on as long as the condition `it is raining` remains true.\n",
    "\n",
    "Now let's see how this works in Python. The simplest example goes like this:\n",
    "\n"
   ]
  },
  {
   "cell_type": "code",
   "execution_count": 25,
   "metadata": {},
   "outputs": [
    {
     "name": "stdout",
     "output_type": "stream",
     "text": [
      "The value of n is  1\n",
      "The value of n is  2\n",
      "The value of n is  3\n",
      "The value of n is  4\n",
      "The value of n is  5\n",
      "The value of n is  6\n",
      "The value of n is  7\n",
      "The value of n is  8\n",
      "The value of n is  9\n",
      "The value of n is  10\n"
     ]
    }
   ],
   "source": [
    "n = 1\n",
    "while (n <= 10):\n",
    "    print(\"The value of n is \",n)\n",
    "    n = n+1"
   ]
  },
  {
   "cell_type": "markdown",
   "metadata": {},
   "source": [
    "Let's break this code down: \n",
    "\n",
    "First, we defined a variable called `n` and gave it the value 1. \n",
    "\n",
    "Then we created a `while` loop, which will continue on for as long as `n <= 10`. \n",
    "\n",
    "In each loop, Python prints out the value of `n`. \n",
    "\n",
    "After printing, we do something a bit tricky: we say that `n` is now equal to `n + 1`, which means the old value `n` plus 1! \n",
    "\n",
    "Each loop increases the value of `n` and it goes until `n` is 10. \n",
    "\n",
    "Note how important it was for us to increase the value of `n` each time! If we did not include the part `n = n+1`, then `n` would have stayed 1 forever, so we would be stuck in this while loop forever too! (We would just have to force Python to stop running). \n",
    "\n",
    "### Exercise\n",
    "Create a variable called `n` which starts from the number 0. Using a `while` loop, print out the even numbers less than 33."
   ]
  },
  {
   "cell_type": "code",
   "execution_count": 27,
   "metadata": {},
   "outputs": [],
   "source": [
    "# In this cell, print out the even numbers less than 33 using a while loop\n"
   ]
  },
  {
   "cell_type": "markdown",
   "metadata": {},
   "source": [
    "## Functions\n",
    "\n",
    "A function is something that takes in some number of inputs and gives you an output. For example, the square of a number is\n",
    "\n",
    "`y = x**2`\n",
    "\n",
    "The `**` is how we do exponents in Python. The inputs of this function is the number `x` that we want to square, and the output is `y`!\n",
    "\n",
    "If we want to define a function in Python, we should follow these steps:\n",
    "\n",
    "**Step 1:** write `def` followed by the name you want to give your function. In parentheses, tell Python what inputs (and how many) your function will take in, followed by a colon:\n",
    "\n",
    "`def my_function(input 1, input2):`\n",
    "\n",
    "**Step 2:** indent so that Python knows that you are giving the definition of the function:\n",
    "\n",
    "```\n",
    "def my_function(input1, input2):\n",
    "    my_answer = input1 + input2\n",
    "```\n",
    "\n",
    "**Step 3:** tell Python what to `return`, which means what Python should tell you the output is:\n",
    "\n",
    "```\n",
    "def my_function(input1, input2):\n",
    "    my_answer = input1 + input2\n",
    "    return my_answer\n",
    "```\n",
    "\n",
    "Let's do an example together. For the square function we discussed above, we would write\n",
    "\n",
    "```\n",
    "def square(x):\n",
    "    y = x**2\n",
    "    return y\n",
    "```\n",
    "To recap:\n",
    "\n",
    "First, we have to write `def` to let Python know that we are _defining_ a function. \n",
    "\n",
    "Next, we give Python the name we want the function to have: above, I called our function `square`. \n",
    "\n",
    "Next, __in parentheses__, we tell Python which inputs our function will take, followed by a colon `:`. For us, our input is simple `x`.\n",
    "\n",
    "Below that line, we have to indent so Python knows that we are now giving the definition. In the second line, we define a variable named `y` which is equal to the square of our number: `x**2`. Finally, we tell Python to `return` the variable `y` as the _output_ of the function which we named `myfunc`. \n",
    "\n",
    "Once we have defined our function, we can use it just by writing its name and giving it inputs. If we want the square of 12.3, we would just write:\n",
    "`myfunc(12.3)`\n",
    "\n",
    "Let's check this below:"
   ]
  },
  {
   "cell_type": "code",
   "execution_count": 29,
   "metadata": {},
   "outputs": [
    {
     "data": {
      "text/plain": [
       "151.29000000000002"
      ]
     },
     "execution_count": 29,
     "metadata": {},
     "output_type": "execute_result"
    }
   ],
   "source": [
    "# Let's first define our function here\n",
    "def myfunc(x):\n",
    "    y = x**2\n",
    "    return y\n",
    "\n",
    "# Now let's test with some inputs! Choose any number to square and try using the function:\n",
    "myfunc(12.3)"
   ]
  },
  {
   "cell_type": "markdown",
   "metadata": {},
   "source": [
    "Our functions can have as many inputs as we want. We just have to separate the inputs by a comma `,`. For example, we can make a function which multiplies two numbers together:\n",
    "\n",
    "```\n",
    "def product(a,b):\n",
    "    return a * b\n",
    "```\n",
    "\n",
    "To use it, we would simply write something like `product(3, 9)` and Python would return the output `27`. Let's check below:"
   ]
  },
  {
   "cell_type": "code",
   "execution_count": 11,
   "metadata": {},
   "outputs": [
    {
     "data": {
      "text/plain": [
       "27"
      ]
     },
     "execution_count": 11,
     "metadata": {},
     "output_type": "execute_result"
    }
   ],
   "source": [
    "# Define the product function here\n",
    "def product(a,b):\n",
    "    return a * b\n",
    "\n",
    "# Use two test numbers to make sure this function works\n",
    "product(3,9)"
   ]
  },
  {
   "cell_type": "markdown",
   "metadata": {},
   "source": [
    "Now its your turn! Define a function whose output is the quotient of two numbers. Make sure it works by testing with some numbers!"
   ]
  },
  {
   "cell_type": "code",
   "execution_count": 31,
   "metadata": {},
   "outputs": [],
   "source": [
    "# Define a quotient function in this cell\n"
   ]
  },
  {
   "cell_type": "markdown",
   "metadata": {},
   "source": [
    "### Exercise\n",
    "\n",
    "This exercise will require you to use what you learned about `if-else` statements to make a function. \n",
    "\n",
    "Define a function called `wear_shorts` which takes in 1 input, which will be the number corresponding to the temperature outside. Your function should do the following:\n",
    "\n",
    "If the temperature you give your function is greater than or equal to 70, then your function should spit out the text\n",
    "```\n",
    "It is warm outside! Wear shorts!\n",
    "```\n",
    "\n",
    "If the temperature is less than 80, then your function should spit out the text\n",
    "```\n",
    "It is not warm enough for shorts!\n",
    "```"
   ]
  },
  {
   "cell_type": "code",
   "execution_count": 12,
   "metadata": {},
   "outputs": [],
   "source": [
    "# Define your wear_shorts(temperature) function in this cell\n"
   ]
  },
  {
   "cell_type": "markdown",
   "metadata": {},
   "source": [
    "## Lists \n",
    "\n",
    "What do you think of when you think of a shopping list? Most likely, you probably think of a collection of items that you need to pick up from the grocery store, written on a piece of paper. For example, you could have a list that looks like\n",
    "\n",
    "```\n",
    "shopping list = apples, oranges, tomatoes, bananas, berries\n",
    "```\n",
    "\n",
    "\n",
    "Lists in Python are very similar to this in the sense that they can be used to store a collection of objects. To define a list in Python, we must use square brackets `[ ]` to wrap around our entire list, and we separate items with a comma:\n",
    "\n",
    "```\n",
    "shopping_list = [\"tomatoes\", \"oranges\", \"tomatoes\", \"bananas\", \"berries\"]\n",
    "```\n",
    "\n",
    "_Question: Why did we have to put quotation marks around our items? What data type are we making them?_"
   ]
  },
  {
   "cell_type": "code",
   "execution_count": 1,
   "metadata": {},
   "outputs": [],
   "source": [
    "# Come up with 5 items to put on your shopping list below:\n",
    "shopping_list = [\"tomatoes\", \"oranges\", \"tomatoes\", \"bananas\", \"berries\"]"
   ]
  },
  {
   "cell_type": "markdown",
   "metadata": {},
   "source": [
    "In Python lists, order plays a _very_ important part. Each element of your list has a particular position. Although it is somewhat weird, Python starts counting from the number 0 (as we saw earlier in the `for` loop section). The first element of your list is in position 0, the second element is in position 1, and so on. You'll get used to it eventually.  \n",
    "\n",
    "Let's ask Python to print out the 3rd item (so position 2) of our grocery list. To grab a certain element from a list, we just have to tell Python the name of our list, followed by the position in square brackets. Therefore, to get the 3rd item, we just have to print out `shopping_list[2]`. Let's try below:"
   ]
  },
  {
   "cell_type": "code",
   "execution_count": 2,
   "metadata": {},
   "outputs": [
    {
     "name": "stdout",
     "output_type": "stream",
     "text": [
      "tomatoes\n"
     ]
    }
   ],
   "source": [
    "print( shopping_list[2] )"
   ]
  },
  {
   "cell_type": "markdown",
   "metadata": {},
   "source": [
    "Although the grocery list we created is a list of `strings`, we can put any datatype into our list. For example, we can have a list of `floats`:\n",
    "\n",
    "`float_list = [12.1, 14.8, 9.4, 5.7, 3.0]`\n",
    "\n"
   ]
  },
  {
   "cell_type": "code",
   "execution_count": 3,
   "metadata": {},
   "outputs": [],
   "source": [
    "# Define a list of your own floats on the line below\n",
    "float_list = [ ]"
   ]
  },
  {
   "cell_type": "markdown",
   "metadata": {},
   "source": [
    "In fact, we can actually have a list of items of any data type -- they do not even have to be the same! We can have `integers`, `floats`, `strings`, and `booleans` all in the same list!\n",
    "\n",
    "```\n",
    "my_list = [ 2, 9.4, \"hello\", 3.14, False ]\n",
    "```"
   ]
  },
  {
   "cell_type": "code",
   "execution_count": 13,
   "metadata": {},
   "outputs": [],
   "source": [
    "# Come up with a list containing integers, floats, strings, and booleans\n",
    "my_list = [ ]"
   ]
  },
  {
   "cell_type": "markdown",
   "metadata": {},
   "source": [
    "Once we have a list, we can replace elements of our list just as we would define variables. For example, if we want to change the element in position 0 (first element) to the string \"first\", we simply have to write\n",
    "\n",
    "```\n",
    "my_list[0] = \"first\"\n",
    "```\n",
    "\n",
    "Now when we look at our list again, we should see that it has been changed:"
   ]
  },
  {
   "cell_type": "code",
   "execution_count": 45,
   "metadata": {},
   "outputs": [],
   "source": [
    "# Redefine the element in position 0 to be the string \"first\":\n",
    "my_list[0] = \n",
    "\n",
    "# Now let's look at our list again:\n",
    "print(my_list)"
   ]
  },
  {
   "cell_type": "markdown",
   "metadata": {},
   "source": [
    "Every list has a certain length. We can find the length of a list by using the `len` function. We just need to type:\n",
    "\n",
    "```\n",
    "len(my_list)\n",
    "```\n",
    "\n",
    "Let's check the length of the list we defined above:"
   ]
  },
  {
   "cell_type": "code",
   "execution_count": 14,
   "metadata": {},
   "outputs": [],
   "source": [
    "# Check the length of the list called my_list\n"
   ]
  },
  {
   "cell_type": "markdown",
   "metadata": {},
   "source": [
    "### List Slicing\n",
    "Right now, our list is 5 elements long. What if we just want to grab a subset of our list, rather than the whole thing? In order to just grab a certain range of our list, we can use something called _list slicing_. Say we only want elements in position 0 to position 2 (so the first, second, and third elements of our list). In order to grab this sub-list, we would write\n",
    "\n",
    "```\n",
    "my_list[0:3]\n",
    "```\n",
    "\n",
    "For example, if we had made a simple list `my_list = [ 0, 1, 2, 3, 4 ]`, then `my_list[0:3]` would give us back `[ 0, 1, 2 ]`\n",
    "\n",
    "Note the slightly weird thing about this: we tell Python the starting position, but the second number we give Python is not the ending position but rather one greater than that! We say that the first number is _inclusive,_ but the second number is _exclusive,_ meaning we go _up to but do NOT include_ the second number.\n",
    "\n",
    "Try it for yourself! Use list slicing to grab the second, third, and fourth elements of your list:"
   ]
  },
  {
   "cell_type": "code",
   "execution_count": 4,
   "metadata": {},
   "outputs": [],
   "source": [
    "# In this cell, use list slicing to grab the second through the fourth elements of your list\n"
   ]
  },
  {
   "cell_type": "markdown",
   "metadata": {},
   "source": [
    "There are a few cool tricks we can do with list slicing. \n",
    "\n",
    "First of all, if we want to start from the first element of our list, we do not even have to write the 0. We can just leave the first entry blank, like `my_list[ : 5]`, and Python knows to start from the beginning. \n",
    "\n",
    "Likewise, if we want Python to start at a position and go all the way to the end, we can just leave the second entry in the list slicing empty: `my_list[ 4 : ]`."
   ]
  },
  {
   "cell_type": "code",
   "execution_count": 9,
   "metadata": {},
   "outputs": [],
   "source": [
    "# In this cell, grab the second through the last elements of your list\n"
   ]
  },
  {
   "cell_type": "markdown",
   "metadata": {},
   "source": [
    "Sometimes, our lists can get very long, and we may be unsure of the length. If we want to grab the elements closer to the end, one thing we could do is just find out the length of our list and then get the elements we need. But, there is another trick that could help us out!\n",
    "\n",
    "If we want to grab the last element, we can write `my_list[-1]`. By using negative numbers, we are telling Python to start from the end instead! `-1` would be the last element, `-2` would be 2nd-to-last, and so on. \n",
    "\n",
    "So if we want the 4th-to-last to 2nd-to-last elements, we could write\n",
    "\n",
    "`my_list[-4 : -2]`"
   ]
  },
  {
   "cell_type": "code",
   "execution_count": null,
   "metadata": {},
   "outputs": [],
   "source": [
    "# In this cell, use negative indexing to grab the 3rd-to-last through the last elements of your list\n"
   ]
  }
 ],
 "metadata": {
  "colab": {
   "collapsed_sections": [],
   "name": "PythonWeek1.ipynb",
   "provenance": []
  },
  "kernelspec": {
   "display_name": "Python 3 (ipykernel)",
   "language": "python",
   "name": "python3"
  },
  "language_info": {
   "codemirror_mode": {
    "name": "ipython",
    "version": 3
   },
   "file_extension": ".py",
   "mimetype": "text/x-python",
   "name": "python",
   "nbconvert_exporter": "python",
   "pygments_lexer": "ipython3",
   "version": "3.8.3"
  }
 },
 "nbformat": 4,
 "nbformat_minor": 1
}
